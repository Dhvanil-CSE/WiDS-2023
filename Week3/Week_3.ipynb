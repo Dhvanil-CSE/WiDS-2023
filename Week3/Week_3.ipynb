{
  "nbformat": 4,
  "nbformat_minor": 0,
  "metadata": {
    "colab": {
      "provenance": []
    },
    "kernelspec": {
      "name": "python3",
      "display_name": "Python 3"
    },
    "language_info": {
      "name": "python"
    }
  },
  "cells": [
    {
      "cell_type": "markdown",
      "source": [
        "#MNIST\n",
        "Our objective is to build a neural network for the classification of the MNIST dataset. This neural network will comprise two layers, each with 10 nodes, and an input layer with 784 nodes corresponding to the image pixels. The specific structure of the neural network is outlined below, where $X$ represents the input, $A^{[0]}$ denotes the first layer, $Z^{[1]}$ signifies the unactivated layer 1, $A^{[1]}$ stands for the activated layer 1, and so forth. The weights and biases are represented by $W$ and $b$ respectively:\n"
      ],
      "metadata": {
        "id": "4lFWhSEEwc9F"
      }
    },
    {
      "cell_type": "markdown",
      "source": [
        "<div align=\"center\">\n",
        "\n",
        "$A^{[0]}=X$\n",
        "\n",
        "$Z^{[1]}=W^{[1]}A^{[0]}+b^{[1]}$\n",
        "\n",
        "$A^{[1]}=\\text{ReLU}(Z^{[1]})$\n",
        "\n",
        "$Z^{[2]}=W^{[2]}A^{[1]}+b^{[2]}$\n",
        "\n",
        "$A^{[2]}=\\text{softmax}(Z^{[2]})$\n",
        "</div>\n",
        "\n",
        "\n"
      ],
      "metadata": {
        "id": "dDanK4nEwfhh"
      }
    },
    {
      "cell_type": "markdown",
      "source": [
        "You have the flexibility to create any function within or outside the class, allowing you to modify parameters as needed"
      ],
      "metadata": {
        "id": "YzBJgODl4aDp"
      }
    },
    {
      "cell_type": "code",
      "source": [
        "#importing libraries\n",
        "import pandas as pd\n",
        "import numpy as np\n",
        "from keras.datasets import mnist\n",
        "import matplotlib.pyplot as plt"
      ],
      "metadata": {
        "id": "8A6ScQ-8lzWy"
      },
      "execution_count": null,
      "outputs": []
    },
    {
      "cell_type": "markdown",
      "source": [
        "### Required functions"
      ],
      "metadata": {
        "id": "TGVN81yBnufX"
      }
    },
    {
      "cell_type": "code",
      "execution_count": null,
      "metadata": {
        "id": "N4A3X8zjh5My"
      },
      "outputs": [],
      "source": [
        "# activation and loss functions\n",
        "def ReLU():\n",
        "    pass\n",
        "\n",
        "def derivative_ReLU():\n",
        "    pass\n",
        "\n",
        "def softmax():\n",
        "    pass\n"
      ]
    },
    {
      "cell_type": "code",
      "source": [
        "#complete the class of neural network\n",
        "\n",
        "class NN:\n",
        "  def __init__(self):\n",
        "      pass\n",
        "\n",
        "  def forward_propagation(self):\n",
        "      pass\n",
        "\n",
        "  def one_hot(self): #return a 0 vector with 1 only in the position corresponding to the value in test target\n",
        "      pass\n",
        "\n",
        "  def backward_propagation(self):\n",
        "      pass\n",
        "\n",
        "  def update_params(self):\n",
        "      pass\n",
        "\n",
        "  def get_predictions(self):\n",
        "      pass\n",
        "\n",
        "  def get_accuracy(self):\n",
        "      pass\n",
        "\n",
        "  def gradient_descent(self):\n",
        "      pass\n",
        "\n",
        "  def make_predictions(self):\n",
        "      pass\n",
        "\n",
        "  def show_prediction(self): #show the prediction and actual output for an image in mnist dataset\n",
        "      pass\n"
      ],
      "metadata": {
        "id": "Vqdn0Wv0mFNE"
      },
      "execution_count": null,
      "outputs": []
    },
    {
      "cell_type": "markdown",
      "source": [
        "## main"
      ],
      "metadata": {
        "id": "FsgNaz6qmoLI"
      }
    },
    {
      "cell_type": "code",
      "source": [
        "(X_train, Y_train), (X_test, Y_test) = mnist.load_data()"
      ],
      "metadata": {
        "id": "iIbC5z1Lmlcr"
      },
      "execution_count": null,
      "outputs": []
    },
    {
      "cell_type": "markdown",
      "source": [
        "###preprocessing the data\n"
      ],
      "metadata": {
        "id": "ymme4NNNmws9"
      }
    },
    {
      "cell_type": "code",
      "source": [
        "# all values of pixels should be in range[0,1]"
      ],
      "metadata": {
        "id": "B8YjLpUwm678"
      },
      "execution_count": null,
      "outputs": []
    },
    {
      "cell_type": "markdown",
      "source": [
        "###Model Training"
      ],
      "metadata": {
        "id": "B5dqfE25m7ZD"
      }
    },
    {
      "cell_type": "code",
      "source": [
        "#training model using gradient descent"
      ],
      "metadata": {
        "id": "G05ggxM1m_n0"
      },
      "execution_count": null,
      "outputs": []
    },
    {
      "cell_type": "markdown",
      "source": [
        "### Viewing Results\n"
      ],
      "metadata": {
        "id": "sa-CT3UnnAsr"
      }
    },
    {
      "cell_type": "code",
      "source": [
        "#viewing prediction for 10 random images in dataset"
      ],
      "metadata": {
        "id": "WV9UEIHbnJKd"
      },
      "execution_count": null,
      "outputs": []
    }
  ]
}